{
  "nbformat": 4,
  "nbformat_minor": 0,
  "metadata": {
    "colab": {
      "name": "Experiments.ipynb",
      "provenance": [],
      "collapsed_sections": [],
      "authorship_tag": "ABX9TyOqXaa81H8jp5HxBqNY/BiB",
      "include_colab_link": true
    },
    "kernelspec": {
      "name": "python3",
      "display_name": "Python 3"
    },
    "language_info": {
      "name": "python"
    }
  },
  "cells": [
    {
      "cell_type": "markdown",
      "metadata": {
        "id": "view-in-github",
        "colab_type": "text"
      },
      "source": [
        "<a href=\"https://colab.research.google.com/github/fredlarochelle/Classify/blob/master/notebooks/0.1_fl_experiments.ipynb\" target=\"_parent\"><img src=\"https://colab.research.google.com/assets/colab-badge.svg\" alt=\"Open In Colab\"/></a>"
      ]
    },
    {
      "cell_type": "code",
      "source": [
        "import requests\n",
        "import re\n",
        "import random\n",
        "import string\n",
        "from bs4 import BeautifulSoup as bs\n",
        "import pandas as pd"
      ],
      "metadata": {
        "id": "CNRDMYLpALsO"
      },
      "execution_count": 2,
      "outputs": []
    },
    {
      "cell_type": "code",
      "source": [
        "def get_proxy():\n",
        "  response_proxy = requests.get(\"https://free-proxy-list.net/\")\n",
        "\n",
        "  soup = bs(response_proxy.content, \"html.parser\")\n",
        "\n",
        "  tds = soup.find(\"tbody\").find_all(\"tr\")\n",
        "\n",
        "  proxies = []\n",
        "\n",
        "  for io in tds:\n",
        "    proxies.append(f\"{io.find_all('td')[0].text}:{io.find_all('td')[1].text}\")\n",
        "\n",
        "  return proxies"
      ],
      "metadata": {
        "id": "5KrVuOOmNFFW"
      },
      "execution_count": 3,
      "outputs": []
    },
    {
      "cell_type": "code",
      "source": [
        "def get_headers(typed=None):\n",
        "  if not typed:\n",
        "    headers = {\n",
        "      \"authority\": \"twitter.com\",\n",
        "      \"sec-ch-ua\": '\"Google Chrome\";v=\"93\", \" Not;A Brand\";v=\"99\", \"Chromium\";v=\"93\"',\n",
        "      \"x-twitter-client-language\": \"en\",\n",
        "      \"accept\": \"text/html,application/xhtml+xml,application/xml;q=0.9,image/avif,image/webp,image/apng,*/*;q=0.8,application/signed-exchange;v=b3;q=0.9\",\n",
        "      \"accept-encoding\": \"gzip, deflate, br\",\n",
        "      \"upgrade-insecure-requests\": \"1\",\n",
        "      \"sec-ch-ua-platform\": 'Windows\"',\n",
        "      \"sec-ch-ua-mobile\": \"?0\",\n",
        "      \"user-agent\": \"Mozilla/5.0 (Windows NT 10.0; Win64; x64) AppleWebKit/537.36 (KHTML, like Gecko) Chrome/93.0.4577.82 Safari/537.36\",\n",
        "    }\n",
        "  else:\n",
        "    headers = {\n",
        "      'x-csrf-token': ''.join(random.choices(string.ascii_letters + string.digits, k=32)),\n",
        "      'authorization': \"Bearer \" + \"AAAAAAAAAAAAAAAAAAAAANRILgAAAAAAnNwIzUejRCOuH5E6I8xnZz4puTs%3D1Zv7ttfk8LF81IUq16cHjhLTvJu4FA33AGWWjCpTnA\",\n",
        "      'content-type': \"application/json\",\n",
        "      'referer': \"https://twitter.com/AmitabhJha3\",\n",
        "      \"authority\": \"twitter.com\",\n",
        "      \"sec-ch-ua\": '\"Google Chrome\";v=\"93\", \" Not;A Brand\";v=\"99\", \"Chromium\";v=\"93\"',\n",
        "      \"x-twitter-client-language\": \"en\",\n",
        "      \"upgrade-insecure-requests\": \"1\",\n",
        "      \"sec-ch-ua-platform\": 'Windows\"',\n",
        "      \"sec-ch-ua-mobile\": \"?0\",\n",
        "      \"user-agent\": \"Mozilla/5.0 (Windows NT 10.0; Win64; x64) AppleWebKit/537.36 (KHTML, like Gecko) Chrome/93.0.4577.82 Safari/537.36\",\n",
        "      \"x-guest-token\": typed\n",
        "    }\n",
        "\n",
        "  return headers"
      ],
      "metadata": {
        "id": "p1Pwz7IxpuIs"
      },
      "execution_count": 4,
      "outputs": []
    },
    {
      "cell_type": "code",
      "source": [
        "def get_guest_token():\n",
        "  try:\n",
        "    response = requests.get(\"https://twitter.com/i/trends\", headers=get_headers(), proxies=proxy)\n",
        "\n",
        "    guest_token = re.findall(\n",
        "      'document\\.cookie = decodeURIComponent\\(\"gt=(.*?); Max-Age=10800; Domain=\\.twitter\\.com; Path=/; Secure\"\\);',\n",
        "      response.text)\n",
        "    \n",
        "    try:\n",
        "      return guest_token[0]\n",
        "    except IndexError:\n",
        "      raise ValueError(\"Guest token couldn't be found. Aborting...\")\n",
        "      \n",
        "  except:\n",
        "    raise ValueError(\"Response didn't work...\")"
      ],
      "metadata": {
        "id": "yFsAlHqdIY6O"
      },
      "execution_count": 5,
      "outputs": []
    },
    {
      "cell_type": "code",
      "source": [
        "i = 0\n",
        "\n",
        "while True:\n",
        "  try:\n",
        "    proxy = {\"http\": random.choice(get_proxy())}\n",
        "    guest_headers = get_headers(get_guest_token())\n",
        "    i += 1\n",
        "  except:\n",
        "    continue\n",
        "  else:\n",
        "    print(\"Proxy and guest headers generated on try #\", i)\n",
        "    break"
      ],
      "metadata": {
        "colab": {
          "base_uri": "https://localhost:8080/"
        },
        "id": "cU93HHNYmkvX",
        "outputId": "6925b068-7e2f-43e7-8d75-ac1adccfef7c"
      },
      "execution_count": 8,
      "outputs": [
        {
          "output_type": "stream",
          "name": "stdout",
          "text": [
            "Proxy and guest headers generated on try # 1\n"
          ]
        }
      ]
    },
    {
      "cell_type": "code",
      "source": [
        "# TODO:\n",
        "# Twitter sometimes returns the same cursor as requested and no results even though there are more results.\n",
        "# When this happens, retry the same cursor up to the retries setting.\n",
        "#\n",
        "# check if end cursor?\n",
        "#\n",
        "# Check \"timeline\" for more stuff, ads tags, order, ...\n",
        "\n",
        "def parser(response):\n",
        "  response_json = response.json()\n",
        "\n",
        "  cursor = []\n",
        "\n",
        "  for i in response_json['timeline']['instructions'][0]['addEntries']['entries']:\n",
        "    if 'operation' in i['content']: # check to make it uniform with the second way of doing it\n",
        "      if i['content']['operation']['cursor']['cursorType'] == \"Bottom\":\n",
        "        cursor.append(i['content']['operation']['cursor']['value'])\n",
        "\n",
        "  if len(cursor) == 0:\n",
        "    for i in response_json['timeline']['instructions']:\n",
        "      for key in i.keys():\n",
        "        if key == \"replaceEntry\":\n",
        "          if i['replaceEntry']['entry']['content']['operation']['cursor']['cursorType'] == \"Bottom\":\n",
        "            cursor.append(i['replaceEntry']['entry']['content']['operation']['cursor']['value'])\n",
        "            break\n",
        "\n",
        "  data = []\n",
        "\n",
        "  for element in response_json['globalObjects']['tweets']:\n",
        "    data.append([response_json['globalObjects']['tweets'][element][\"created_at\"], response_json['globalObjects']['tweets'][element][\"full_text\"], response_json['globalObjects']['tweets'][element][\"id\"], response_json['globalObjects']['tweets'][element][\"user_id\"]])\n",
        "\n",
        "  return data, cursor"
      ],
      "metadata": {
        "id": "_7xE5uleR_hc"
      },
      "execution_count": 9,
      "outputs": []
    },
    {
      "cell_type": "code",
      "source": [
        "search_url = \"https://twitter.com/i/api/2/search/adaptive.json?include_profile_interstitial_type=1&include_blocking=1&include_blocked_by=1&include_followed_by=1&include_want_retweets=1&include_mute_edge=1&include_can_dm=1&include_can_media_tag=1&skip_status=1&cards_platform=Web-12&include_cards=1&include_ext_alt_text=true&include_quote_count=true&include_reply_count=1&tweet_mode=extended&include_entities=true&include_user_entities=true&include_ext_media_color=true&include_ext_media_availability=true&send_error_codes=true&simple_quoted_tweet=true&q={}&count=20&query_source=typeahead_click&pc=1&spelling_corrections=1&ext=mediaStats%2ChighlightedLabel%2CvoiceInfo\"\n",
        "\n",
        "def search(query, pages=1):\n",
        "  session = requests.Session()\n",
        "  session.headers = guest_headers\n",
        "  session.proxies = proxy\n",
        "\n",
        "  url = f\"{search_url}&tweet_search_mode=live\"\n",
        "  r = session.get(url.format(query))\n",
        "\n",
        "  tweets_data, cursor = parser(r)\n",
        "\n",
        "  for i in range(pages):\n",
        "    url = f\"{search_url}&tweet_search_mode=live&cursor={cursor[0]}\"\n",
        "    #r = session.get(url.format(query), headers=guest_headers, proxies=proxy)\n",
        "    r = session.get(url.format(query))\n",
        "    tweets_data_temp, cursor = parser(r)\n",
        "\n",
        "    tweets_data.extend(tweets_data_temp)\n",
        "\n",
        "  return pd.DataFrame(tweets_data, columns=[\"created_at\", \"full_text\", \"id\", \"user_id\"])"
      ],
      "metadata": {
        "id": "mGZTinwRPPOU"
      },
      "execution_count": 10,
      "outputs": []
    },
    {
      "cell_type": "code",
      "source": [
        "%time test = search('canada', pages=100)"
      ],
      "metadata": {
        "colab": {
          "base_uri": "https://localhost:8080/"
        },
        "id": "gxhbVh-11gJy",
        "outputId": "33a63ac9-8751-4c6d-a408-b2fd213c5ee7"
      },
      "execution_count": 12,
      "outputs": [
        {
          "output_type": "stream",
          "name": "stdout",
          "text": [
            "CPU times: user 817 ms, sys: 36.5 ms, total: 853 ms\n",
            "Wall time: 33 s\n"
          ]
        }
      ]
    },
    {
      "cell_type": "code",
      "source": [
        "test"
      ],
      "metadata": {
        "colab": {
          "base_uri": "https://localhost:8080/",
          "height": 424
        },
        "id": "P4__2g9637AO",
        "outputId": "24f36750-0613-41a7-93f9-1e2a351d2798"
      },
      "execution_count": 13,
      "outputs": [
        {
          "output_type": "execute_result",
          "data": {
            "text/html": [
              "\n",
              "  <div id=\"df-f7c5a04c-fc00-4fad-bfaa-9e84afc5829e\">\n",
              "    <div class=\"colab-df-container\">\n",
              "      <div>\n",
              "<style scoped>\n",
              "    .dataframe tbody tr th:only-of-type {\n",
              "        vertical-align: middle;\n",
              "    }\n",
              "\n",
              "    .dataframe tbody tr th {\n",
              "        vertical-align: top;\n",
              "    }\n",
              "\n",
              "    .dataframe thead th {\n",
              "        text-align: right;\n",
              "    }\n",
              "</style>\n",
              "<table border=\"1\" class=\"dataframe\">\n",
              "  <thead>\n",
              "    <tr style=\"text-align: right;\">\n",
              "      <th></th>\n",
              "      <th>created_at</th>\n",
              "      <th>full_text</th>\n",
              "      <th>id</th>\n",
              "      <th>user_id</th>\n",
              "    </tr>\n",
              "  </thead>\n",
              "  <tbody>\n",
              "    <tr>\n",
              "      <th>0</th>\n",
              "      <td>Thu Dec 23 19:05:21 +0000 2021</td>\n",
              "      <td>@Marcus4Georgia Wishing you luck from Canada, ...</td>\n",
              "      <td>1474093789027479562</td>\n",
              "      <td>1348019973776617476</td>\n",
              "    </tr>\n",
              "    <tr>\n",
              "      <th>1</th>\n",
              "      <td>Thu Dec 23 18:29:18 +0000 2021</td>\n",
              "      <td>COVID-19 cases are spiking, hospitals are runn...</td>\n",
              "      <td>1474084716160733199</td>\n",
              "      <td>51476542</td>\n",
              "    </tr>\n",
              "    <tr>\n",
              "      <th>2</th>\n",
              "      <td>Thu Dec 23 19:05:16 +0000 2021</td>\n",
              "      <td>Canada could learn a lot from them.\\nJapan’s s...</td>\n",
              "      <td>1474093769129701397</td>\n",
              "      <td>909278625219923968</td>\n",
              "    </tr>\n",
              "    <tr>\n",
              "      <th>3</th>\n",
              "      <td>Thu Dec 23 19:05:11 +0000 2021</td>\n",
              "      <td>90 في المائة من الإصابات الجديدة بكورونا من مت...</td>\n",
              "      <td>1474093749571489809</td>\n",
              "      <td>1343749659861213185</td>\n",
              "    </tr>\n",
              "    <tr>\n",
              "      <th>4</th>\n",
              "      <td>Thu Dec 23 19:05:11 +0000 2021</td>\n",
              "      <td>@PhilPower19 Nah, there's certainly a nation m...</td>\n",
              "      <td>1474093747868925952</td>\n",
              "      <td>822178106924470272</td>\n",
              "    </tr>\n",
              "    <tr>\n",
              "      <th>...</th>\n",
              "      <td>...</td>\n",
              "      <td>...</td>\n",
              "      <td>...</td>\n",
              "      <td>...</td>\n",
              "    </tr>\n",
              "    <tr>\n",
              "      <th>2144</th>\n",
              "      <td>Thu Dec 23 18:23:04 +0000 2021</td>\n",
              "      <td>@kaki385 Hostage diplomacy obvious! Don't forg...</td>\n",
              "      <td>1474083147512008705</td>\n",
              "      <td>3581784381</td>\n",
              "    </tr>\n",
              "    <tr>\n",
              "      <th>2145</th>\n",
              "      <td>Thu Dec 23 18:23:18 +0000 2021</td>\n",
              "      <td>Water quality #FreshWater #GreatLakes #Michiga...</td>\n",
              "      <td>1474083208442662923</td>\n",
              "      <td>55704450</td>\n",
              "    </tr>\n",
              "    <tr>\n",
              "      <th>2146</th>\n",
              "      <td>Thu Dec 23 18:23:09 +0000 2021</td>\n",
              "      <td>Ladies and gentlemen, the Minister of Transpor...</td>\n",
              "      <td>1474083170609860617</td>\n",
              "      <td>1105377223</td>\n",
              "    </tr>\n",
              "    <tr>\n",
              "      <th>2147</th>\n",
              "      <td>Thu Dec 23 11:13:55 +0000 2021</td>\n",
              "      <td>As that big bully pulls awful stunts on #Lithu...</td>\n",
              "      <td>1473975149678723072</td>\n",
              "      <td>976995099170062338</td>\n",
              "    </tr>\n",
              "    <tr>\n",
              "      <th>2148</th>\n",
              "      <td>Thu Dec 23 18:23:08 +0000 2021</td>\n",
              "      <td>“Don’t count the #oilsands out. …once the capi...</td>\n",
              "      <td>1474083166948265984</td>\n",
              "      <td>1254126458265632769</td>\n",
              "    </tr>\n",
              "  </tbody>\n",
              "</table>\n",
              "<p>2149 rows × 4 columns</p>\n",
              "</div>\n",
              "      <button class=\"colab-df-convert\" onclick=\"convertToInteractive('df-f7c5a04c-fc00-4fad-bfaa-9e84afc5829e')\"\n",
              "              title=\"Convert this dataframe to an interactive table.\"\n",
              "              style=\"display:none;\">\n",
              "        \n",
              "  <svg xmlns=\"http://www.w3.org/2000/svg\" height=\"24px\"viewBox=\"0 0 24 24\"\n",
              "       width=\"24px\">\n",
              "    <path d=\"M0 0h24v24H0V0z\" fill=\"none\"/>\n",
              "    <path d=\"M18.56 5.44l.94 2.06.94-2.06 2.06-.94-2.06-.94-.94-2.06-.94 2.06-2.06.94zm-11 1L8.5 8.5l.94-2.06 2.06-.94-2.06-.94L8.5 2.5l-.94 2.06-2.06.94zm10 10l.94 2.06.94-2.06 2.06-.94-2.06-.94-.94-2.06-.94 2.06-2.06.94z\"/><path d=\"M17.41 7.96l-1.37-1.37c-.4-.4-.92-.59-1.43-.59-.52 0-1.04.2-1.43.59L10.3 9.45l-7.72 7.72c-.78.78-.78 2.05 0 2.83L4 21.41c.39.39.9.59 1.41.59.51 0 1.02-.2 1.41-.59l7.78-7.78 2.81-2.81c.8-.78.8-2.07 0-2.86zM5.41 20L4 18.59l7.72-7.72 1.47 1.35L5.41 20z\"/>\n",
              "  </svg>\n",
              "      </button>\n",
              "      \n",
              "  <style>\n",
              "    .colab-df-container {\n",
              "      display:flex;\n",
              "      flex-wrap:wrap;\n",
              "      gap: 12px;\n",
              "    }\n",
              "\n",
              "    .colab-df-convert {\n",
              "      background-color: #E8F0FE;\n",
              "      border: none;\n",
              "      border-radius: 50%;\n",
              "      cursor: pointer;\n",
              "      display: none;\n",
              "      fill: #1967D2;\n",
              "      height: 32px;\n",
              "      padding: 0 0 0 0;\n",
              "      width: 32px;\n",
              "    }\n",
              "\n",
              "    .colab-df-convert:hover {\n",
              "      background-color: #E2EBFA;\n",
              "      box-shadow: 0px 1px 2px rgba(60, 64, 67, 0.3), 0px 1px 3px 1px rgba(60, 64, 67, 0.15);\n",
              "      fill: #174EA6;\n",
              "    }\n",
              "\n",
              "    [theme=dark] .colab-df-convert {\n",
              "      background-color: #3B4455;\n",
              "      fill: #D2E3FC;\n",
              "    }\n",
              "\n",
              "    [theme=dark] .colab-df-convert:hover {\n",
              "      background-color: #434B5C;\n",
              "      box-shadow: 0px 1px 3px 1px rgba(0, 0, 0, 0.15);\n",
              "      filter: drop-shadow(0px 1px 2px rgba(0, 0, 0, 0.3));\n",
              "      fill: #FFFFFF;\n",
              "    }\n",
              "  </style>\n",
              "\n",
              "      <script>\n",
              "        const buttonEl =\n",
              "          document.querySelector('#df-f7c5a04c-fc00-4fad-bfaa-9e84afc5829e button.colab-df-convert');\n",
              "        buttonEl.style.display =\n",
              "          google.colab.kernel.accessAllowed ? 'block' : 'none';\n",
              "\n",
              "        async function convertToInteractive(key) {\n",
              "          const element = document.querySelector('#df-f7c5a04c-fc00-4fad-bfaa-9e84afc5829e');\n",
              "          const dataTable =\n",
              "            await google.colab.kernel.invokeFunction('convertToInteractive',\n",
              "                                                     [key], {});\n",
              "          if (!dataTable) return;\n",
              "\n",
              "          const docLinkHtml = 'Like what you see? Visit the ' +\n",
              "            '<a target=\"_blank\" href=https://colab.research.google.com/notebooks/data_table.ipynb>data table notebook</a>'\n",
              "            + ' to learn more about interactive tables.';\n",
              "          element.innerHTML = '';\n",
              "          dataTable['output_type'] = 'display_data';\n",
              "          await google.colab.output.renderOutput(dataTable, element);\n",
              "          const docLink = document.createElement('div');\n",
              "          docLink.innerHTML = docLinkHtml;\n",
              "          element.appendChild(docLink);\n",
              "        }\n",
              "      </script>\n",
              "    </div>\n",
              "  </div>\n",
              "  "
            ],
            "text/plain": [
              "                          created_at  ...              user_id\n",
              "0     Thu Dec 23 19:05:21 +0000 2021  ...  1348019973776617476\n",
              "1     Thu Dec 23 18:29:18 +0000 2021  ...             51476542\n",
              "2     Thu Dec 23 19:05:16 +0000 2021  ...   909278625219923968\n",
              "3     Thu Dec 23 19:05:11 +0000 2021  ...  1343749659861213185\n",
              "4     Thu Dec 23 19:05:11 +0000 2021  ...   822178106924470272\n",
              "...                              ...  ...                  ...\n",
              "2144  Thu Dec 23 18:23:04 +0000 2021  ...           3581784381\n",
              "2145  Thu Dec 23 18:23:18 +0000 2021  ...             55704450\n",
              "2146  Thu Dec 23 18:23:09 +0000 2021  ...           1105377223\n",
              "2147  Thu Dec 23 11:13:55 +0000 2021  ...   976995099170062338\n",
              "2148  Thu Dec 23 18:23:08 +0000 2021  ...  1254126458265632769\n",
              "\n",
              "[2149 rows x 4 columns]"
            ]
          },
          "metadata": {},
          "execution_count": 13
        }
      ]
    },
    {
      "cell_type": "code",
      "source": [
        "type(test['full_text'][0])"
      ],
      "metadata": {
        "colab": {
          "base_uri": "https://localhost:8080/"
        },
        "id": "I3BRcQuYrzXk",
        "outputId": "e5f0cf68-cf74-4642-ec06-81bf699c01b4"
      },
      "execution_count": 23,
      "outputs": [
        {
          "output_type": "execute_result",
          "data": {
            "text/plain": [
              "str"
            ]
          },
          "metadata": {},
          "execution_count": 23
        }
      ]
    },
    {
      "cell_type": "code",
      "source": [
        "test.info(memory_usage='deep')"
      ],
      "metadata": {
        "colab": {
          "base_uri": "https://localhost:8080/"
        },
        "id": "uScESxKqtRzU",
        "outputId": "0b09bb61-8259-443b-dbfd-aa98d14c6163"
      },
      "execution_count": 29,
      "outputs": [
        {
          "output_type": "stream",
          "name": "stdout",
          "text": [
            "<class 'pandas.core.frame.DataFrame'>\n",
            "RangeIndex: 2149 entries, 0 to 2148\n",
            "Data columns (total 4 columns):\n",
            " #   Column      Non-Null Count  Dtype \n",
            "---  ------      --------------  ----- \n",
            " 0   created_at  2149 non-null   object\n",
            " 1   full_text   2149 non-null   object\n",
            " 2   id          2149 non-null   int64 \n",
            " 3   user_id     2149 non-null   int64 \n",
            "dtypes: int64(2), object(2)\n",
            "memory usage: 899.8 KB\n"
          ]
        }
      ]
    },
    {
      "cell_type": "code",
      "source": [
        "2149/33"
      ],
      "metadata": {
        "colab": {
          "base_uri": "https://localhost:8080/"
        },
        "id": "R94lOgpE67Pk",
        "outputId": "39250030-71d2-4535-ae43-96c84cbe3a49"
      },
      "execution_count": 14,
      "outputs": [
        {
          "output_type": "execute_result",
          "data": {
            "text/plain": [
              "65.12121212121212"
            ]
          },
          "metadata": {},
          "execution_count": 14
        }
      ]
    }
  ]
}